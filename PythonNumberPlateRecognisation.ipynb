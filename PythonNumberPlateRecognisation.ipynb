{
 "cells": [
  {
   "attachments": {},
   "cell_type": "markdown",
   "id": "1173d73a",
   "metadata": {},
   "source": [
    "1.Install and import Dependencies"
   ]
  },
  {
   "attachments": {},
   "cell_type": "markdown",
   "id": "1a628684",
   "metadata": {},
   "source": [
    "2.Read in Image, Grayscale and Blue"
   ]
  },
  {
   "attachments": {},
   "cell_type": "markdown",
   "id": "79a34c4b",
   "metadata": {},
   "source": [
    "3.Apply filter and find edges for localisation"
   ]
  },
  {
   "attachments": {},
   "cell_type": "markdown",
   "id": "e8592446",
   "metadata": {},
   "source": [
    "4.Finding contours and apply masks"
   ]
  },
  {
   "attachments": {},
   "cell_type": "markdown",
   "id": "a0481920",
   "metadata": {},
   "source": [
    "5.Use EasyOCR to Read Text"
   ]
  },
  {
   "attachments": {},
   "cell_type": "markdown",
   "id": "f00fc497",
   "metadata": {},
   "source": [
    "6.Render the result"
   ]
  }
 ],
 "metadata": {
  "kernelspec": {
   "display_name": "Python 3",
   "language": "python",
   "name": "python3"
  },
  "language_info": {
   "codemirror_mode": {
    "name": "ipython",
    "version": 3
   },
   "file_extension": ".py",
   "mimetype": "text/x-python",
   "name": "python",
   "nbconvert_exporter": "python",
   "pygments_lexer": "ipython3",
   "version": "3.10.6"
  },
  "vscode": {
   "interpreter": {
    "hash": "916dbcbb3f70747c44a77c7bcd40155683ae19c65e1c03b4aa3499c5328201f1"
   }
  }
 },
 "nbformat": 4,
 "nbformat_minor": 5
}
